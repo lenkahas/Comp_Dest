{
 "cells": [
  {
   "cell_type": "code",
   "execution_count": 1,
   "id": "3344c0e8-a8c7-4dff-a2f6-08570e9217a1",
   "metadata": {},
   "outputs": [
    {
     "name": "stdout",
     "output_type": "stream",
     "text": [
      "time elapsed: 0.16973879999999997\n",
      "All good to go!\n"
     ]
    }
   ],
   "source": [
    "# test\n",
    "from FlowAccessibility import test\n",
    "# function\n",
    "from FlowAccessibility import AFED\n",
    "\n",
    "# apply\n",
    "test(function = AFED)"
   ]
  },
  {
   "cell_type": "code",
   "execution_count": 2,
   "id": "b9abe0a9-516c-480c-b9d0-5172b240e2f5",
   "metadata": {},
   "outputs": [
    {
     "name": "stdout",
     "output_type": "stream",
     "text": [
      "time elapsed: 0.15956610000000016\n",
      "Ay caramba, something is not working correctly.\n"
     ]
    }
   ],
   "source": [
    "# test\n",
    "from FlowAccessibility import test\n",
    "# function\n",
    "from AF_wrong import AFW\n",
    "# apply\n",
    "test(function = AFW)"
   ]
  }
 ],
 "metadata": {
  "kernelspec": {
   "display_name": "Python 3",
   "language": "python",
   "name": "python3"
  },
  "language_info": {
   "codemirror_mode": {
    "name": "ipython",
    "version": 3
   },
   "file_extension": ".py",
   "mimetype": "text/x-python",
   "name": "python",
   "nbconvert_exporter": "python",
   "pygments_lexer": "ipython3",
   "version": "3.9.4"
  }
 },
 "nbformat": 4,
 "nbformat_minor": 5
}
