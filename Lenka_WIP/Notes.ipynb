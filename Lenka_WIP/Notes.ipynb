{
 "cells": [
  {
   "cell_type": "code",
   "execution_count": null,
   "id": "proper-heritage",
   "metadata": {},
   "outputs": [],
   "source": [
    "---\n",
    "title: GSoC, meeting notes\n",
    "subtitle: Blog\n",
    "summary: \n",
    "authors:\n",
    "- Lenka\n",
    "tags: [\"GSoC\"]\n",
    "categories: [\"Python\"]\n",
    "date: \"2021-05-29T00:00:00Z\"\n",
    "lastMod: \"2021-05-29T00:00:00Z\"\n",
    "featured: false\n",
    "draft: false\n",
    "toc: true\n",
    "\n",
    "---"
   ]
  },
  {
   "cell_type": "markdown",
   "id": "oriental-pursuit",
   "metadata": {},
   "source": [
    "## Notes from meetings\n",
    "\n",
    "### 28/05/2021\n",
    "\n",
    "We have talked about the first steps of the project, which are.\n",
    "1. Start the blog\n",
    "2. submit the current function\n",
    "3. review the functionality of the current function\n",
    "\n",
    "We talked about the structure of the SpInt package and how will this relate to how we want to design this\n",
    "It has been also discussed how slow can the computation can be and that this should be the concern of the third, final part of the project.\n",
    "\n",
    "#### Literature mentions\n",
    "[The universal visitation law of human mobility](https://www.nature.com/articles/s41586-021-03480-9)\n",
    "\n",
    "[The scales of human mobility](https://www.nature.com/articles/s41586-020-2909-1)\n",
    "\n"
   ]
  },
  {
   "cell_type": "code",
   "execution_count": null,
   "id": "inclusive-greece",
   "metadata": {},
   "outputs": [],
   "source": [
    "w = pysal.weights.DistanceBand.from_dataframe(locs, binary=False, threshold=9999, alpha=sigma)\n",
    "            cd = np.sum(w.full()[0] * locs[size].values, axis=0)\n",
    "            data['cd'] = np.tile(cd, n)\n",
    "\n",
    "\n",
    "w = pysal.weights.DistanceBand.from_dataframe(locs, binary=False, threshold=9999, alpha=sigma)\n",
    "cd = np.sum(w.full()[0] * locs[size].values, axis=0)\n",
    "data['cd'] = np.tile(cd, n)\n"
   ]
  },
  {
   "cell_type": "markdown",
   "id": "2102b46f-e0b4-42f3-823c-1e0b8b92e980",
   "metadata": {},
   "source": [
    "---------"
   ]
  },
  {
   "cell_type": "code",
   "execution_count": 2,
   "id": "f07b9785-5a32-4eb9-9b71-8006ec3c65b4",
   "metadata": {},
   "outputs": [],
   "source": [
    "import libpysal\n",
    "import geopandas as gpd\n",
    "import pandas as pd\n",
    "import numpy as np"
   ]
  },
  {
   "cell_type": "code",
   "execution_count": 3,
   "id": "1d9be695-0878-47c8-a0cf-66acb16a265c",
   "metadata": {},
   "outputs": [
    {
     "name": "stdout",
     "output_type": "stream",
     "text": [
      "<class 'geopandas.geodataframe.GeoDataFrame'>\n",
      "RangeIndex: 13 entries, 0 to 12\n",
      "Data columns (total 3 columns):\n",
      " #   Column    Non-Null Count  Dtype   \n",
      "---  ------    --------------  -----   \n",
      " 0   Place_ID  13 non-null     object  \n",
      " 1   geometry  13 non-null     geometry\n",
      " 2   mass      13 non-null     int32   \n",
      "dtypes: geometry(1), int32(1), object(1)\n",
      "memory usage: 388.0+ bytes\n"
     ]
    }
   ],
   "source": [
    "pois = gpd.read_file(\"./points.geojson\")\n",
    "\n",
    "\n",
    "# Add random masses\n",
    "pois['mass'] = pd.Series( np.random.randint(0,1500, size=len(pois))\n",
    "                            )\n",
    "pois.info()"
   ]
  },
  {
   "cell_type": "code",
   "execution_count": 4,
   "id": "597d27f4-ff53-4525-a37f-20852a35d487",
   "metadata": {},
   "outputs": [
    {
     "name": "stderr",
     "output_type": "stream",
     "text": [
      "C:\\Users\\tk18583\\Anaconda3\\envs\\ox\\lib\\site-packages\\scipy\\sparse\\data.py:117: RuntimeWarning: divide by zero encountered in reciprocal\n",
      "  return self._with_data(data ** n)\n"
     ]
    },
    {
     "ename": "NameError",
     "evalue": "name 'n' is not defined",
     "output_type": "error",
     "traceback": [
      "\u001b[1;31m---------------------------------------------------------------------------\u001b[0m",
      "\u001b[1;31mNameError\u001b[0m                                 Traceback (most recent call last)",
      "\u001b[1;32m<ipython-input-4-6942fe80f2f8>\u001b[0m in \u001b[0;36m<module>\u001b[1;34m\u001b[0m\n\u001b[0;32m      1\u001b[0m \u001b[0mw\u001b[0m \u001b[1;33m=\u001b[0m \u001b[0mlibpysal\u001b[0m\u001b[1;33m.\u001b[0m\u001b[0mweights\u001b[0m\u001b[1;33m.\u001b[0m\u001b[0mDistanceBand\u001b[0m\u001b[1;33m.\u001b[0m\u001b[0mfrom_dataframe\u001b[0m\u001b[1;33m(\u001b[0m\u001b[0mpois\u001b[0m\u001b[1;33m,\u001b[0m \u001b[0mbinary\u001b[0m\u001b[1;33m=\u001b[0m\u001b[1;32mFalse\u001b[0m\u001b[1;33m,\u001b[0m \u001b[0mthreshold\u001b[0m\u001b[1;33m=\u001b[0m\u001b[1;36m9999\u001b[0m\u001b[1;33m)\u001b[0m\u001b[1;33m\u001b[0m\u001b[1;33m\u001b[0m\u001b[0m\n\u001b[0;32m      2\u001b[0m \u001b[0mcd\u001b[0m \u001b[1;33m=\u001b[0m \u001b[0mnp\u001b[0m\u001b[1;33m.\u001b[0m\u001b[0msum\u001b[0m\u001b[1;33m(\u001b[0m\u001b[0mw\u001b[0m\u001b[1;33m.\u001b[0m\u001b[0mfull\u001b[0m\u001b[1;33m(\u001b[0m\u001b[1;33m)\u001b[0m\u001b[1;33m[\u001b[0m\u001b[1;36m0\u001b[0m\u001b[1;33m]\u001b[0m \u001b[1;33m*\u001b[0m \u001b[0mpois\u001b[0m\u001b[1;33m[\u001b[0m\u001b[1;34m'mass'\u001b[0m\u001b[1;33m]\u001b[0m\u001b[1;33m.\u001b[0m\u001b[0mvalues\u001b[0m\u001b[1;33m,\u001b[0m \u001b[0maxis\u001b[0m\u001b[1;33m=\u001b[0m\u001b[1;36m0\u001b[0m\u001b[1;33m)\u001b[0m\u001b[1;33m\u001b[0m\u001b[1;33m\u001b[0m\u001b[0m\n\u001b[1;32m----> 3\u001b[1;33m \u001b[0mpois\u001b[0m\u001b[1;33m[\u001b[0m\u001b[1;34m'cd'\u001b[0m\u001b[1;33m]\u001b[0m \u001b[1;33m=\u001b[0m \u001b[0mnp\u001b[0m\u001b[1;33m.\u001b[0m\u001b[0mtile\u001b[0m\u001b[1;33m(\u001b[0m\u001b[0mcd\u001b[0m\u001b[1;33m,\u001b[0m \u001b[0mn\u001b[0m\u001b[1;33m)\u001b[0m\u001b[1;33m\u001b[0m\u001b[1;33m\u001b[0m\u001b[0m\n\u001b[0m",
      "\u001b[1;31mNameError\u001b[0m: name 'n' is not defined"
     ]
    }
   ],
   "source": [
    "w = libpysal.weights.DistanceBand.from_dataframe(pois, binary=False, threshold=9999)\n",
    "cd = np.sum(w.full()[0] * pois['mass'].values, axis=0)\n",
    "pois['cd'] = np.tile(cd, n)"
   ]
  },
  {
   "cell_type": "code",
   "execution_count": 25,
   "id": "4cb334fc-3e2a-45a2-80a5-5caf34a27992",
   "metadata": {},
   "outputs": [
    {
     "data": {
      "text/plain": [
       "array([ 872,  705,  268,  625, 1301,  163, 1056, 1282,  863,  642,  723,\n",
       "       1231, 1483])"
      ]
     },
     "execution_count": 25,
     "metadata": {},
     "output_type": "execute_result"
    }
   ],
   "source": [
    "pois['mass'].values"
   ]
  },
  {
   "cell_type": "code",
   "execution_count": 31,
   "id": "ce8776d0-f603-41f7-90d8-220c7401d52e",
   "metadata": {},
   "outputs": [
    {
     "data": {
      "text/plain": [
       "[0, 2, 3, 4, 5, 6, 9, 10, 11, 12]"
      ]
     },
     "execution_count": 31,
     "metadata": {},
     "output_type": "execute_result"
    }
   ],
   "source": [
    "w.neighbors[8]"
   ]
  },
  {
   "cell_type": "code",
   "execution_count": 29,
   "id": "8ee05b54-a4c6-47a7-b903-a0355d0311e3",
   "metadata": {},
   "outputs": [
    {
     "data": {
      "text/html": [
       "<div>\n",
       "<style scoped>\n",
       "    .dataframe tbody tr th:only-of-type {\n",
       "        vertical-align: middle;\n",
       "    }\n",
       "\n",
       "    .dataframe tbody tr th {\n",
       "        vertical-align: top;\n",
       "    }\n",
       "\n",
       "    .dataframe thead th {\n",
       "        text-align: right;\n",
       "    }\n",
       "</style>\n",
       "<table border=\"1\" class=\"dataframe\">\n",
       "  <thead>\n",
       "    <tr style=\"text-align: right;\">\n",
       "      <th></th>\n",
       "      <th>Place_ID</th>\n",
       "      <th>geometry</th>\n",
       "      <th>mass</th>\n",
       "    </tr>\n",
       "  </thead>\n",
       "  <tbody>\n",
       "    <tr>\n",
       "      <th>0</th>\n",
       "      <td>FHH76</td>\n",
       "      <td>POINT (-2.56155 51.41114)</td>\n",
       "      <td>872</td>\n",
       "    </tr>\n",
       "    <tr>\n",
       "      <th>1</th>\n",
       "      <td>FJQ15</td>\n",
       "      <td>POINT (-2.57186 51.41343)</td>\n",
       "      <td>705</td>\n",
       "    </tr>\n",
       "    <tr>\n",
       "      <th>2</th>\n",
       "      <td>FL370</td>\n",
       "      <td>POINT (-2.58535 51.42478)</td>\n",
       "      <td>268</td>\n",
       "    </tr>\n",
       "    <tr>\n",
       "      <th>3</th>\n",
       "      <td>FPQ26</td>\n",
       "      <td>POINT (-2.57009 51.42385)</td>\n",
       "      <td>625</td>\n",
       "    </tr>\n",
       "    <tr>\n",
       "      <th>4</th>\n",
       "      <td>FQ729</td>\n",
       "      <td>POINT (-2.56155 51.41114)</td>\n",
       "      <td>1301</td>\n",
       "    </tr>\n",
       "    <tr>\n",
       "      <th>5</th>\n",
       "      <td>FRA45</td>\n",
       "      <td>POINT (-2.58535 51.42478)</td>\n",
       "      <td>163</td>\n",
       "    </tr>\n",
       "    <tr>\n",
       "      <th>6</th>\n",
       "      <td>FRD73</td>\n",
       "      <td>POINT (-2.57095 51.41392)</td>\n",
       "      <td>1056</td>\n",
       "    </tr>\n",
       "    <tr>\n",
       "      <th>7</th>\n",
       "      <td>DL81006</td>\n",
       "      <td>POINT (-2.57186 51.41343)</td>\n",
       "      <td>1282</td>\n",
       "    </tr>\n",
       "    <tr>\n",
       "      <th>8</th>\n",
       "      <td>DL81031</td>\n",
       "      <td>POINT (-2.57186 51.41343)</td>\n",
       "      <td>863</td>\n",
       "    </tr>\n",
       "    <tr>\n",
       "      <th>9</th>\n",
       "      <td>DY03791</td>\n",
       "      <td>POINT (-2.58490 51.41340)</td>\n",
       "      <td>642</td>\n",
       "    </tr>\n",
       "    <tr>\n",
       "      <th>10</th>\n",
       "      <td>L81006</td>\n",
       "      <td>POINT (-2.57186 51.41343)</td>\n",
       "      <td>723</td>\n",
       "    </tr>\n",
       "    <tr>\n",
       "      <th>11</th>\n",
       "      <td>L81031</td>\n",
       "      <td>POINT (-2.57186 51.41343)</td>\n",
       "      <td>1231</td>\n",
       "    </tr>\n",
       "    <tr>\n",
       "      <th>12</th>\n",
       "      <td>Y03791</td>\n",
       "      <td>POINT (-2.58490 51.41340)</td>\n",
       "      <td>1483</td>\n",
       "    </tr>\n",
       "  </tbody>\n",
       "</table>\n",
       "</div>"
      ],
      "text/plain": [
       "   Place_ID                   geometry  mass\n",
       "0     FHH76  POINT (-2.56155 51.41114)   872\n",
       "1     FJQ15  POINT (-2.57186 51.41343)   705\n",
       "2     FL370  POINT (-2.58535 51.42478)   268\n",
       "3     FPQ26  POINT (-2.57009 51.42385)   625\n",
       "4     FQ729  POINT (-2.56155 51.41114)  1301\n",
       "5     FRA45  POINT (-2.58535 51.42478)   163\n",
       "6     FRD73  POINT (-2.57095 51.41392)  1056\n",
       "7   DL81006  POINT (-2.57186 51.41343)  1282\n",
       "8   DL81031  POINT (-2.57186 51.41343)   863\n",
       "9   DY03791  POINT (-2.58490 51.41340)   642\n",
       "10   L81006  POINT (-2.57186 51.41343)   723\n",
       "11   L81031  POINT (-2.57186 51.41343)  1231\n",
       "12   Y03791  POINT (-2.58490 51.41340)  1483"
      ]
     },
     "execution_count": 29,
     "metadata": {},
     "output_type": "execute_result"
    }
   ],
   "source": [
    "pois"
   ]
  },
  {
   "cell_type": "markdown",
   "id": "c51160ba-4a65-49c0-8a23-469e5d119fce",
   "metadata": {},
   "source": [
    "11/06/2021\n",
    "\n",
    "\n",
    "1. fork the pysal library\n",
    "2. contribute to it \n",
    "3. create pull request \n"
   ]
  }
 ],
 "metadata": {
  "kernelspec": {
   "display_name": "Python 3",
   "language": "python",
   "name": "python3"
  },
  "language_info": {
   "codemirror_mode": {
    "name": "ipython",
    "version": 3
   },
   "file_extension": ".py",
   "mimetype": "text/x-python",
   "name": "python",
   "nbconvert_exporter": "python",
   "pygments_lexer": "ipython3",
   "version": "3.9.4"
  }
 },
 "nbformat": 4,
 "nbformat_minor": 5
}
