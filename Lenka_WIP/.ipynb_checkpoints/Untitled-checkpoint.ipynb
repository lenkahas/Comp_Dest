{
 "cells": [
  {
   "cell_type": "code",
   "execution_count": 130,
   "id": "pressing-engagement",
   "metadata": {},
   "outputs": [],
   "source": [
    "import pandas as pd\n",
    "import geopandas as gpd"
   ]
  },
  {
   "cell_type": "code",
   "execution_count": 131,
   "id": "elementary-crossing",
   "metadata": {},
   "outputs": [],
   "source": [
    "points = gpd.read_file('./points.geojson')\n",
    "\n",
    "flow = pd.read_csv('./sample_prescription_data.csv')"
   ]
  },
  {
   "cell_type": "code",
   "execution_count": 132,
   "id": "inclusive-weekly",
   "metadata": {},
   "outputs": [
    {
     "data": {
      "image/png": "[encoded data removed]",
      "text/plain": [
       "<Figure size 432x288 with 1 Axes>"
      ]
     },
     "metadata": {
      "needs_background": "light"
     },
     "output_type": "display_data"
    }
   ],
   "source": [
    "points.plot();"
   ]
  },
  {
   "cell_type": "raw",
   "id": "alert-natural",
   "metadata": {},
   "source": [
    "from pyproj import CRS\n",
    "wgs84 = CRS(4326)\n",
    "bng = CRS(27700)\n",
    "print(wgs84)"
   ]
  },
  {
   "cell_type": "markdown",
   "id": "saved-garden",
   "metadata": {},
   "source": [
    "points = points.to_crs(wgs84)\n",
    "points"
   ]
  },
  {
   "cell_type": "code",
   "execution_count": 133,
   "id": "hispanic-ireland",
   "metadata": {},
   "outputs": [],
   "source": [
    "import itertools\n",
    "from geopy.distance import great_circle"
   ]
  },
  {
   "cell_type": "code",
   "execution_count": 134,
   "id": "polyphonic-venue",
   "metadata": {},
   "outputs": [],
   "source": [
    "# distance matrix\n",
    "all_flows = pd.DataFrame( list( itertools.product(list(points['Place_ID'].unique()),list(points['Place_ID'].unique())))\n",
    "                       ).rename(columns = {0:'Origin_ID',\n",
    "                                        1:'Dest_ID'})\n",
    "    \n",
    "# create stripped column of coordinates \n",
    "points['xy'] = points.geometry.apply(lambda x: [x.y, x.x])\n",
    "points = pd.DataFrame(points.loc[:,['Place_ID','xy']])\n"
   ]
  },
  {
   "cell_type": "code",
   "execution_count": 135,
   "id": "incorporate-medium",
   "metadata": {},
   "outputs": [],
   "source": [
    "    \n",
    "all_flows = all_flows.merge(points, how = 'left', left_on = 'Origin_ID', right_on = 'Place_ID').rename(columns = {'xy' : 'xy_O'})\n",
    "all_flows = all_flows.merge(points, how = 'left', left_on = 'Dest_ID', right_on = 'Place_ID').rename(columns = {'xy' : 'xy_D'})\n",
    "all_flows['distance'] = all_flows.apply(lambda x: great_circle(x.xy_O, x.xy_D).km, axis=1)\n",
    "    \n"
   ]
  },
  {
   "cell_type": "code",
   "execution_count": 136,
   "id": "atomic-concord",
   "metadata": {},
   "outputs": [
    {
     "data": {
      "text/html": [
       "<div>\n",
       "<style scoped>\n",
       "    .dataframe tbody tr th:only-of-type {\n",
       "        vertical-align: middle;\n",
       "    }\n",
       "\n",
       "    .dataframe tbody tr th {\n",
       "        vertical-align: top;\n",
       "    }\n",
       "\n",
       "    .dataframe thead th {\n",
       "        text-align: right;\n",
       "    }\n",
       "</style>\n",
       "<table border=\"1\" class=\"dataframe\">\n",
       "  <thead>\n",
       "    <tr style=\"text-align: right;\">\n",
       "      <th></th>\n",
       "      <th>Unnamed: 0</th>\n",
       "      <th>Origin_ID</th>\n",
       "      <th>Dest_ID</th>\n",
       "      <th>Weight</th>\n",
       "      <th>Distance</th>\n",
       "      <th>Dest_mass</th>\n",
       "    </tr>\n",
       "  </thead>\n",
       "  <tbody>\n",
       "    <tr>\n",
       "      <th>0</th>\n",
       "      <td>0</td>\n",
       "      <td>L81040</td>\n",
       "      <td>FH194</td>\n",
       "      <td>18154.0</td>\n",
       "      <td>0.054323</td>\n",
       "      <td>40.467391</td>\n",
       "    </tr>\n",
       "    <tr>\n",
       "      <th>1</th>\n",
       "      <td>1</td>\n",
       "      <td>L81040</td>\n",
       "      <td>FJ615</td>\n",
       "      <td>940.0</td>\n",
       "      <td>0.892626</td>\n",
       "      <td>43.840426</td>\n",
       "    </tr>\n",
       "    <tr>\n",
       "      <th>2</th>\n",
       "      <td>2</td>\n",
       "      <td>L81040</td>\n",
       "      <td>FNX05</td>\n",
       "      <td>2551.0</td>\n",
       "      <td>0.509102</td>\n",
       "      <td>40.917544</td>\n",
       "    </tr>\n",
       "    <tr>\n",
       "      <th>3</th>\n",
       "      <td>3</td>\n",
       "      <td>L81040</td>\n",
       "      <td>FRM86</td>\n",
       "      <td>3816.0</td>\n",
       "      <td>1.029998</td>\n",
       "      <td>38.497959</td>\n",
       "    </tr>\n",
       "    <tr>\n",
       "      <th>4</th>\n",
       "      <td>4</td>\n",
       "      <td>L81040</td>\n",
       "      <td>DL81040</td>\n",
       "      <td>185.0</td>\n",
       "      <td>0.000000</td>\n",
       "      <td>39.927660</td>\n",
       "    </tr>\n",
       "    <tr>\n",
       "      <th>...</th>\n",
       "      <td>...</td>\n",
       "      <td>...</td>\n",
       "      <td>...</td>\n",
       "      <td>...</td>\n",
       "      <td>...</td>\n",
       "      <td>...</td>\n",
       "    </tr>\n",
       "    <tr>\n",
       "      <th>115</th>\n",
       "      <td>115</td>\n",
       "      <td>L81102</td>\n",
       "      <td>FH194</td>\n",
       "      <td>225.0</td>\n",
       "      <td>0.901049</td>\n",
       "      <td>40.467391</td>\n",
       "    </tr>\n",
       "    <tr>\n",
       "      <th>116</th>\n",
       "      <td>116</td>\n",
       "      <td>L81102</td>\n",
       "      <td>FJ615</td>\n",
       "      <td>9886.0</td>\n",
       "      <td>0.000000</td>\n",
       "      <td>43.840426</td>\n",
       "    </tr>\n",
       "    <tr>\n",
       "      <th>117</th>\n",
       "      <td>117</td>\n",
       "      <td>L81102</td>\n",
       "      <td>FNX05</td>\n",
       "      <td>1048.0</td>\n",
       "      <td>0.515742</td>\n",
       "      <td>40.917544</td>\n",
       "    </tr>\n",
       "    <tr>\n",
       "      <th>118</th>\n",
       "      <td>118</td>\n",
       "      <td>L81102</td>\n",
       "      <td>FRM86</td>\n",
       "      <td>815.0</td>\n",
       "      <td>1.062296</td>\n",
       "      <td>38.497959</td>\n",
       "    </tr>\n",
       "    <tr>\n",
       "      <th>119</th>\n",
       "      <td>119</td>\n",
       "      <td>L81102</td>\n",
       "      <td>DL81102</td>\n",
       "      <td>69.0</td>\n",
       "      <td>0.000000</td>\n",
       "      <td>43.840426</td>\n",
       "    </tr>\n",
       "  </tbody>\n",
       "</table>\n",
       "<p>120 rows × 6 columns</p>\n",
       "</div>"
      ],
      "text/plain": [
       "     Unnamed: 0 Origin_ID  Dest_ID   Weight  Distance  Dest_mass\n",
       "0             0    L81040    FH194  18154.0  0.054323  40.467391\n",
       "1             1    L81040    FJ615    940.0  0.892626  43.840426\n",
       "2             2    L81040    FNX05   2551.0  0.509102  40.917544\n",
       "3             3    L81040    FRM86   3816.0  1.029998  38.497959\n",
       "4             4    L81040  DL81040    185.0  0.000000  39.927660\n",
       "..          ...       ...      ...      ...       ...        ...\n",
       "115         115    L81102    FH194    225.0  0.901049  40.467391\n",
       "116         116    L81102    FJ615   9886.0  0.000000  43.840426\n",
       "117         117    L81102    FNX05   1048.0  0.515742  40.917544\n",
       "118         118    L81102    FRM86    815.0  1.062296  38.497959\n",
       "119         119    L81102  DL81102     69.0  0.000000  43.840426\n",
       "\n",
       "[120 rows x 6 columns]"
      ]
     },
     "execution_count": 136,
     "metadata": {},
     "output_type": "execute_result"
    }
   ],
   "source": [
    "flow"
   ]
  },
  {
   "cell_type": "code",
   "execution_count": 138,
   "id": "fatal-cambodia",
   "metadata": {},
   "outputs": [],
   "source": [
    "# Join the flows\n",
    "flow = flow.loc[:,['Origin_ID','Dest_ID','Weight','Dest_mass']].groupby(['Origin_ID','Dest_ID']).mean().reset_index()\n",
    "all_flows = all_flows.loc[:,['Origin_ID','Dest_ID', 'distance']].merge(flow.loc[:,['Origin_ID','Dest_ID','Weight']], how = 'left', on = ['Origin_ID','Dest_ID']\n",
    "                                                              ).merge(flow.loc[:,['Dest_ID','Dest_mass']], how = 'left', on = 'Dest_ID')     "
   ]
  },
  {
   "cell_type": "code",
   "execution_count": 139,
   "id": "animated-latino",
   "metadata": {},
   "outputs": [
    {
     "data": {
      "text/html": [
       "<div>\n",
       "<style scoped>\n",
       "    .dataframe tbody tr th:only-of-type {\n",
       "        vertical-align: middle;\n",
       "    }\n",
       "\n",
       "    .dataframe tbody tr th {\n",
       "        vertical-align: top;\n",
       "    }\n",
       "\n",
       "    .dataframe thead th {\n",
       "        text-align: right;\n",
       "    }\n",
       "</style>\n",
       "<table border=\"1\" class=\"dataframe\">\n",
       "  <thead>\n",
       "    <tr style=\"text-align: right;\">\n",
       "      <th></th>\n",
       "      <th>distance</th>\n",
       "      <th>Weight</th>\n",
       "      <th>Dest_mass</th>\n",
       "    </tr>\n",
       "  </thead>\n",
       "  <tbody>\n",
       "    <tr>\n",
       "      <th>count</th>\n",
       "      <td>896.000000</td>\n",
       "      <td>18.000000</td>\n",
       "      <td>280.000000</td>\n",
       "    </tr>\n",
       "    <tr>\n",
       "      <th>mean</th>\n",
       "      <td>0.551855</td>\n",
       "      <td>4165.143519</td>\n",
       "      <td>41.121472</td>\n",
       "    </tr>\n",
       "    <tr>\n",
       "      <th>std</th>\n",
       "      <td>0.428631</td>\n",
       "      <td>5854.851953</td>\n",
       "      <td>1.960742</td>\n",
       "    </tr>\n",
       "    <tr>\n",
       "      <th>min</th>\n",
       "      <td>0.000000</td>\n",
       "      <td>74.083333</td>\n",
       "      <td>38.497959</td>\n",
       "    </tr>\n",
       "    <tr>\n",
       "      <th>25%</th>\n",
       "      <td>0.077908</td>\n",
       "      <td>778.583333</td>\n",
       "      <td>39.927660</td>\n",
       "    </tr>\n",
       "    <tr>\n",
       "      <th>50%</th>\n",
       "      <td>0.534939</td>\n",
       "      <td>872.833333</td>\n",
       "      <td>40.692468</td>\n",
       "    </tr>\n",
       "    <tr>\n",
       "      <th>75%</th>\n",
       "      <td>0.877280</td>\n",
       "      <td>3904.583333</td>\n",
       "      <td>43.840426</td>\n",
       "    </tr>\n",
       "    <tr>\n",
       "      <th>max</th>\n",
       "      <td>1.344709</td>\n",
       "      <td>18290.166667</td>\n",
       "      <td>43.840426</td>\n",
       "    </tr>\n",
       "  </tbody>\n",
       "</table>\n",
       "</div>"
      ],
      "text/plain": [
       "         distance        Weight   Dest_mass\n",
       "count  896.000000     18.000000  280.000000\n",
       "mean     0.551855   4165.143519   41.121472\n",
       "std      0.428631   5854.851953    1.960742\n",
       "min      0.000000     74.083333   38.497959\n",
       "25%      0.077908    778.583333   39.927660\n",
       "50%      0.534939    872.833333   40.692468\n",
       "75%      0.877280   3904.583333   43.840426\n",
       "max      1.344709  18290.166667   43.840426"
      ]
     },
     "execution_count": 139,
     "metadata": {},
     "output_type": "execute_result"
    }
   ],
   "source": [
    "all_flows.describe()"
   ]
  },
  {
   "cell_type": "code",
   "execution_count": null,
   "id": "grateful-murray",
   "metadata": {},
   "outputs": [],
   "source": []
  }
 ],
 "metadata": {
  "kernelspec": {
   "display_name": "Python 3",
   "language": "python",
   "name": "python3"
  },
  "language_info": {
   "codemirror_mode": {
    "name": "ipython",
    "version": 3
   },
   "file_extension": ".py",
   "mimetype": "text/x-python",
   "name": "python",
   "nbconvert_exporter": "python",
   "pygments_lexer": "ipython3",
   "version": "3.9.2"
  }
 },
 "nbformat": 4,
 "nbformat_minor": 5
}
