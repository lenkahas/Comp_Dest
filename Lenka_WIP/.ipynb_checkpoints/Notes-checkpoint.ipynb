{
 "cells": [
  {
   "cell_type": "code",
   "execution_count": null,
   "id": "proper-heritage",
   "metadata": {},
   "outputs": [],
   "source": [
    "---\n",
    "title: GSoC, meeting notes\n",
    "subtitle: Blog\n",
    "summary: \n",
    "authors:\n",
    "- Lenka\n",
    "tags: [\"GSoC\"]\n",
    "categories: [\"Python\"]\n",
    "date: \"2021-05-29T00:00:00Z\"\n",
    "lastMod: \"2021-05-29T00:00:00Z\"\n",
    "featured: false\n",
    "draft: false\n",
    "toc: true\n",
    "\n",
    "---"
   ]
  },
  {
   "cell_type": "markdown",
   "id": "oriental-pursuit",
   "metadata": {},
   "source": [
    "## Notes from meetings\n",
    "\n",
    "### 28/05/2021\n",
    "\n",
    "We have talked about the first steps of the project, which are.\n",
    "1. Start the blog\n",
    "2. submit the current function\n",
    "3. review the functionality of the current function\n",
    "\n",
    "We talked about the structure of the SpInt package and how will this relate to how we want to design this\n",
    "It has been also discussed how slow can the computation can be and that this should be the concern of the third, final part of the project.\n",
    "\n",
    "#### Literature mentions\n",
    "[The universal visitation law of human mobility](https://www.nature.com/articles/s41586-021-03480-9)\n",
    "\n",
    "[The scales of human mobility](https://www.nature.com/articles/s41586-020-2909-1)\n",
    "\n"
   ]
  },
  {
   "cell_type": "code",
   "execution_count": null,
   "id": "inclusive-greece",
   "metadata": {},
   "outputs": [],
   "source": [
    "w = pysal.weights.DistanceBand.from_dataframe(locs, binary=False, threshold=9999, alpha=sigma)\n",
    "            cd = np.sum(w.full()[0] * locs[size].values, axis=0)\n",
    "            data['cd'] = np.tile(cd, n)\n",
    "\n",
    "w = pysal.weights.DistanceBand.from_dataframe(locs, binary=False, threshold=9999, alpha=sigma)\n",
    "cd = np.sum(w.full()[0] * locs[size].values, axis=0)\n",
    "data['cd'] = np.tile(cd, n)\n"
   ]
  }
 ],
 "metadata": {
  "kernelspec": {
   "display_name": "Python 3",
   "language": "python",
   "name": "python3"
  },
  "language_info": {
   "codemirror_mode": {
    "name": "ipython",
    "version": 3
   },
   "file_extension": ".py",
   "mimetype": "text/x-python",
   "name": "python",
   "nbconvert_exporter": "python",
   "pygments_lexer": "ipython3",
   "version": "3.9.2"
  }
 },
 "nbformat": 4,
 "nbformat_minor": 5
}
