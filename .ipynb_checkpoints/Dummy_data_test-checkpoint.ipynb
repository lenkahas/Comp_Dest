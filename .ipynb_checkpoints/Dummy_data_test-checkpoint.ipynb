{
 "cells": [
  {
   "cell_type": "markdown",
   "id": "distributed-atlantic",
   "metadata": {},
   "source": [
    "# Toy data and toy scenario - providing proof for paper\n"
   ]
  },
  {
   "cell_type": "code",
   "execution_count": 1,
   "id": "headed-console",
   "metadata": {},
   "outputs": [],
   "source": [
    "# import package\n",
    "\n",
    "import numpy as np\n",
    "import pandas as pd\n"
   ]
  },
  {
   "cell_type": "code",
   "execution_count": 3,
   "id": "chemical-church",
   "metadata": {},
   "outputs": [
    {
     "data": {
      "text/html": [
       "<div>\n",
       "<style scoped>\n",
       "    .dataframe tbody tr th:only-of-type {\n",
       "        vertical-align: middle;\n",
       "    }\n",
       "\n",
       "    .dataframe tbody tr th {\n",
       "        vertical-align: top;\n",
       "    }\n",
       "\n",
       "    .dataframe thead th {\n",
       "        text-align: right;\n",
       "    }\n",
       "</style>\n",
       "<table border=\"1\" class=\"dataframe\">\n",
       "  <thead>\n",
       "    <tr style=\"text-align: right;\">\n",
       "      <th></th>\n",
       "      <th>Origin_ID</th>\n",
       "      <th>Destination_ID</th>\n",
       "      <th>Distances</th>\n",
       "      <th>Dest_masses</th>\n",
       "      <th>flow_vol</th>\n",
       "    </tr>\n",
       "  </thead>\n",
       "  <tbody>\n",
       "    <tr>\n",
       "      <th>0</th>\n",
       "      <td>A</td>\n",
       "      <td>B</td>\n",
       "      <td>2</td>\n",
       "      <td>25</td>\n",
       "      <td>0</td>\n",
       "    </tr>\n",
       "    <tr>\n",
       "      <th>1</th>\n",
       "      <td>B</td>\n",
       "      <td>A</td>\n",
       "      <td>2</td>\n",
       "      <td>60</td>\n",
       "      <td>5</td>\n",
       "    </tr>\n",
       "    <tr>\n",
       "      <th>2</th>\n",
       "      <td>A</td>\n",
       "      <td>A</td>\n",
       "      <td>0</td>\n",
       "      <td>60</td>\n",
       "      <td>80</td>\n",
       "    </tr>\n",
       "    <tr>\n",
       "      <th>3</th>\n",
       "      <td>C</td>\n",
       "      <td>B</td>\n",
       "      <td>20</td>\n",
       "      <td>25</td>\n",
       "      <td>10</td>\n",
       "    </tr>\n",
       "    <tr>\n",
       "      <th>4</th>\n",
       "      <td>B</td>\n",
       "      <td>C</td>\n",
       "      <td>20</td>\n",
       "      <td>30</td>\n",
       "      <td>7</td>\n",
       "    </tr>\n",
       "    <tr>\n",
       "      <th>5</th>\n",
       "      <td>A</td>\n",
       "      <td>C</td>\n",
       "      <td>10</td>\n",
       "      <td>30</td>\n",
       "      <td>2</td>\n",
       "    </tr>\n",
       "  </tbody>\n",
       "</table>\n",
       "</div>"
      ],
      "text/plain": [
       "  Origin_ID Destination_ID  Distances  Dest_masses  flow_vol\n",
       "0         A              B          2           25         0\n",
       "1         B              A          2           60         5\n",
       "2         A              A          0           60        80\n",
       "3         C              B         20           25        10\n",
       "4         B              C         20           30         7\n",
       "5         A              C         10           30         2"
      ]
     },
     "execution_count": 3,
     "metadata": {},
     "output_type": "execute_result"
    }
   ],
   "source": [
    "origins = ['A','B','C','D','E']\n",
    "destinations = ['A','B','C','D','E']\n",
    "\n",
    "destination_masses = [60,10,10,30,50]\n",
    "flow_volumes = []\n",
    "\n",
    "distances = \n",
    "\n",
    "\n",
    "flows = {'Origin_ID': origins,\n",
    "        'Destination_ID': destinations,\n",
    "        'Distances': distances,\n",
    "        'Dest_masses': destination_masses,\n",
    "         'flow_vol':flow_volumes\n",
    "        }\n",
    "\n",
    "flows_unipirtite = pd.DataFrame(flows, columns = ['Origin_ID', 'Destination_ID','Distances','Dest_masses','flow_vol'])\n",
    "flows_unipirtite"
   ]
  },
  {
   "cell_type": "code",
   "execution_count": null,
   "id": "understood-curtis",
   "metadata": {},
   "outputs": [],
   "source": [
    "flows_bipirtite = "
   ]
  }
 ],
 "metadata": {
  "kernelspec": {
   "display_name": "Python 3",
   "language": "python",
   "name": "python3"
  },
  "language_info": {
   "codemirror_mode": {
    "name": "ipython",
    "version": 3
   },
   "file_extension": ".py",
   "mimetype": "text/x-python",
   "name": "python",
   "nbconvert_exporter": "python",
   "pygments_lexer": "ipython3",
   "version": "3.9.2"
  }
 },
 "nbformat": 4,
 "nbformat_minor": 5
}
